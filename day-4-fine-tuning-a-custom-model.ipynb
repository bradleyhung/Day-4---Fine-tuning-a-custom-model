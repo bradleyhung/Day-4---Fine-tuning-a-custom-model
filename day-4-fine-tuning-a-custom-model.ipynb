{
 "cells": [
  {
   "cell_type": "markdown",
   "id": "b0a10e2f",
   "metadata": {
    "id": "b6e13eef3f5d",
    "papermill": {
     "duration": 0.014112,
     "end_time": "2024-11-16T03:25:47.888325",
     "exception": false,
     "start_time": "2024-11-16T03:25:47.874213",
     "status": "completed"
    },
    "tags": []
   },
   "source": [
    "##### Copyright 2024 Google LLC."
   ]
  },
  {
   "cell_type": "code",
   "execution_count": 1,
   "id": "f6f10736",
   "metadata": {
    "cellView": "form",
    "execution": {
     "iopub.execute_input": "2024-11-16T03:25:47.918325Z",
     "iopub.status.busy": "2024-11-16T03:25:47.916856Z",
     "iopub.status.idle": "2024-11-16T03:25:47.924155Z",
     "shell.execute_reply": "2024-11-16T03:25:47.922895Z"
    },
    "id": "d6597b11df14",
    "jupyter": {
     "source_hidden": true
    },
    "papermill": {
     "duration": 0.025369,
     "end_time": "2024-11-16T03:25:47.927222",
     "exception": false,
     "start_time": "2024-11-16T03:25:47.901853",
     "status": "completed"
    },
    "tags": []
   },
   "outputs": [],
   "source": [
    "# @title Licensed under the Apache License, Version 2.0 (the \"License\");\n",
    "# you may not use this file except in compliance with the License.\n",
    "# You may obtain a copy of the License at\n",
    "#\n",
    "# https://www.apache.org/licenses/LICENSE-2.0\n",
    "#\n",
    "# Unless required by applicable law or agreed to in writing, software\n",
    "# distributed under the License is distributed on an \"AS IS\" BASIS,\n",
    "# WITHOUT WARRANTIES OR CONDITIONS OF ANY KIND, either express or implied.\n",
    "# See the License for the specific language governing permissions and\n",
    "# limitations under the License."
   ]
  },
  {
   "cell_type": "markdown",
   "id": "08968728",
   "metadata": {
    "id": "4KDIFPAL2EnL",
    "papermill": {
     "duration": 0.012398,
     "end_time": "2024-11-16T03:25:47.953999",
     "exception": false,
     "start_time": "2024-11-16T03:25:47.941601",
     "status": "completed"
    },
    "tags": []
   },
   "source": [
    "# Day 4 - Fine tuning a custom model\n",
    "\n",
    "Welcome back to the Kaggle 5-day Generative AI course!\n",
    "\n",
    "In this notebook you will use the Gemini API to fine-tune a custom, task-specific model. Fine-tuning can be used for a variety of tasks from classic NLP problems like entity extraction or summarisation, to creative tasks like stylised generation. You will fine-tune a model to classify the category a piece of text (a newsgroup post) into the category it belongs to (the newsgroup name).\n",
    "\n",
    "This codelab walks you tuning a model with the API. [AI Studio](https://aistudio.google.com/app/tune) also supports creating new tuned models directly in the web UI, allowing you to quickly create and monitor models using data from Google Sheets, Drive or your own files."
   ]
  },
  {
   "cell_type": "code",
   "execution_count": 2,
   "id": "16f0726e",
   "metadata": {
    "execution": {
     "iopub.execute_input": "2024-11-16T03:25:47.982189Z",
     "iopub.status.busy": "2024-11-16T03:25:47.980989Z",
     "iopub.status.idle": "2024-11-16T03:26:18.440067Z",
     "shell.execute_reply": "2024-11-16T03:26:18.438685Z"
    },
    "id": "9wafTyEH1_xF",
    "papermill": {
     "duration": 30.487114,
     "end_time": "2024-11-16T03:26:18.453848",
     "exception": false,
     "start_time": "2024-11-16T03:25:47.966734",
     "status": "completed"
    },
    "tags": []
   },
   "outputs": [
    {
     "name": "stdout",
     "output_type": "stream",
     "text": [
      "Note: you may need to restart the kernel to use updated packages.\n"
     ]
    }
   ],
   "source": [
    "%pip install -U -q 'google-generativeai>=0.8.3'"
   ]
  },
  {
   "cell_type": "code",
   "execution_count": 3,
   "id": "bfd23372",
   "metadata": {
    "execution": {
     "iopub.execute_input": "2024-11-16T03:26:18.482208Z",
     "iopub.status.busy": "2024-11-16T03:26:18.481170Z",
     "iopub.status.idle": "2024-11-16T03:26:19.606728Z",
     "shell.execute_reply": "2024-11-16T03:26:19.605726Z"
    },
    "id": "T0CBG9xL2PvT",
    "papermill": {
     "duration": 1.142848,
     "end_time": "2024-11-16T03:26:19.609462",
     "exception": false,
     "start_time": "2024-11-16T03:26:18.466614",
     "status": "completed"
    },
    "tags": []
   },
   "outputs": [],
   "source": [
    "import google.generativeai as genai"
   ]
  },
  {
   "cell_type": "markdown",
   "id": "074e73ef",
   "metadata": {
    "id": "P4bYX2T72ScK",
    "papermill": {
     "duration": 0.012525,
     "end_time": "2024-11-16T03:26:19.635173",
     "exception": false,
     "start_time": "2024-11-16T03:26:19.622648",
     "status": "completed"
    },
    "tags": []
   },
   "source": [
    "### Set up your API key\n",
    "\n",
    "To run the following cell, your API key must be stored it in a [Kaggle secret](https://www.kaggle.com/discussions/product-feedback/114053) named `GOOGLE_API_KEY`.\n",
    "\n",
    "If you don't already have an API key, you can grab one from [AI Studio](https://aistudio.google.com/app/apikey). You can find [detailed instructions in the docs](https://ai.google.dev/gemini-api/docs/api-key).\n",
    "\n",
    "To make the key available through Kaggle secrets, choose `Secrets` from the `Add-ons` menu and follow the instructions to add your key or enable it for this notebook."
   ]
  },
  {
   "cell_type": "code",
   "execution_count": 4,
   "id": "11c17b5d",
   "metadata": {
    "execution": {
     "iopub.execute_input": "2024-11-16T03:26:19.663375Z",
     "iopub.status.busy": "2024-11-16T03:26:19.662559Z",
     "iopub.status.idle": "2024-11-16T03:26:19.814586Z",
     "shell.execute_reply": "2024-11-16T03:26:19.813624Z"
    },
    "id": "VuJPY3GK2SLZ",
    "papermill": {
     "duration": 0.168731,
     "end_time": "2024-11-16T03:26:19.817178",
     "exception": false,
     "start_time": "2024-11-16T03:26:19.648447",
     "status": "completed"
    },
    "tags": []
   },
   "outputs": [],
   "source": [
    "from kaggle_secrets import UserSecretsClient\n",
    "\n",
    "GOOGLE_API_KEY = UserSecretsClient().get_secret(\"GOOGLE_API_KEY\")\n",
    "genai.configure(api_key=GOOGLE_API_KEY)"
   ]
  },
  {
   "attachments": {
    "53e1d527-de81-497e-bfac-58df458e750b.png": {
     "image/png": "[encoded data removed]"
    }
   },
   "cell_type": "markdown",
   "id": "64c155d1",
   "metadata": {
    "id": "25b2127c2052",
    "papermill": {
     "duration": 0.012621,
     "end_time": "2024-11-16T03:26:19.843096",
     "exception": false,
     "start_time": "2024-11-16T03:26:19.830475",
     "status": "completed"
    },
    "tags": []
   },
   "source": [
    "If you received an error response along the lines of `No user secrets exist for kernel id ...`, then you need to add your API key via `Add-ons`, `Secrets` **and** enable it.\n",
    "\n",
    "![Screenshot of the checkbox to enable GOOGLE_API_KEY secret](https://storage.googleapis.com/kaggle-media/Images/5gdai_sc_3.png)"
   ]
  },
  {
   "cell_type": "markdown",
   "id": "24ce179b",
   "metadata": {
    "id": "CqVA5QFO6n4z",
    "papermill": {
     "duration": 0.012457,
     "end_time": "2024-11-16T03:26:19.868484",
     "exception": false,
     "start_time": "2024-11-16T03:26:19.856027",
     "status": "completed"
    },
    "tags": []
   },
   "source": [
    "### Explore available models\n",
    "\n",
    "You will be using the [`TunedModel.create`](https://ai.google.dev/api/tuning#method:-tunedmodels.create) API method to start the fine-tuning job and create your custom model. Find a model that supports it through the [`models.list`](https://ai.google.dev/api/models#method:-models.list) endpoint. You can also find more information about tuning models in [the model tuning docs](https://ai.google.dev/gemini-api/docs/model-tuning/tutorial?lang=python)."
   ]
  },
  {
   "cell_type": "code",
   "execution_count": 5,
   "id": "76d86367",
   "metadata": {
    "execution": {
     "iopub.execute_input": "2024-11-16T03:26:19.895639Z",
     "iopub.status.busy": "2024-11-16T03:26:19.895225Z",
     "iopub.status.idle": "2024-11-16T03:26:20.277541Z",
     "shell.execute_reply": "2024-11-16T03:26:20.276339Z"
    },
    "id": "coEacWAB6o0G",
    "papermill": {
     "duration": 0.398883,
     "end_time": "2024-11-16T03:26:20.280102",
     "exception": false,
     "start_time": "2024-11-16T03:26:19.881219",
     "status": "completed"
    },
    "tags": []
   },
   "outputs": [
    {
     "name": "stdout",
     "output_type": "stream",
     "text": [
      "models/gemini-1.0-pro-001\n",
      "models/gemini-1.5-flash-001-tuning\n"
     ]
    }
   ],
   "source": [
    "for model in genai.list_models():\n",
    "    if \"createTunedModel\" in model.supported_generation_methods:\n",
    "        print(model.name)"
   ]
  },
  {
   "cell_type": "markdown",
   "id": "617cf415",
   "metadata": {
    "id": "peFm0w_0c1CO",
    "papermill": {
     "duration": 0.012602,
     "end_time": "2024-11-16T03:26:20.305576",
     "exception": false,
     "start_time": "2024-11-16T03:26:20.292974",
     "status": "completed"
    },
    "tags": []
   },
   "source": [
    "## Download the dataset\n",
    "\n",
    "In this activity, you will use the same newsgroups dataset that you used to train a classifier in Keras. In this example you will use a fine-tuned Gemini model to achieve the same goal.\n",
    "\n",
    "The [20 Newsgroups Text Dataset](https://scikit-learn.org/0.19/datasets/twenty_newsgroups.html) contains 18,000 newsgroups posts on 20 topics divided into training and test sets."
   ]
  },
  {
   "cell_type": "code",
   "execution_count": 6,
   "id": "82704c46",
   "metadata": {
    "execution": {
     "iopub.execute_input": "2024-11-16T03:26:20.332966Z",
     "iopub.status.busy": "2024-11-16T03:26:20.332580Z",
     "iopub.status.idle": "2024-11-16T03:26:34.134137Z",
     "shell.execute_reply": "2024-11-16T03:26:34.132895Z"
    },
    "id": "bX_kpgnQ9b-Z",
    "papermill": {
     "duration": 13.81813,
     "end_time": "2024-11-16T03:26:34.136742",
     "exception": false,
     "start_time": "2024-11-16T03:26:20.318612",
     "status": "completed"
    },
    "tags": []
   },
   "outputs": [
    {
     "data": {
      "text/plain": [
       "['alt.atheism',\n",
       " 'comp.graphics',\n",
       " 'comp.os.ms-windows.misc',\n",
       " 'comp.sys.ibm.pc.hardware',\n",
       " 'comp.sys.mac.hardware',\n",
       " 'comp.windows.x',\n",
       " 'misc.forsale',\n",
       " 'rec.autos',\n",
       " 'rec.motorcycles',\n",
       " 'rec.sport.baseball',\n",
       " 'rec.sport.hockey',\n",
       " 'sci.crypt',\n",
       " 'sci.electronics',\n",
       " 'sci.med',\n",
       " 'sci.space',\n",
       " 'soc.religion.christian',\n",
       " 'talk.politics.guns',\n",
       " 'talk.politics.mideast',\n",
       " 'talk.politics.misc',\n",
       " 'talk.religion.misc']"
      ]
     },
     "execution_count": 6,
     "metadata": {},
     "output_type": "execute_result"
    }
   ],
   "source": [
    "from sklearn.datasets import fetch_20newsgroups\n",
    "\n",
    "newsgroups_train = fetch_20newsgroups(subset=\"train\")\n",
    "newsgroups_test = fetch_20newsgroups(subset=\"test\")\n",
    "\n",
    "# View list of class names for dataset\n",
    "newsgroups_train.target_names"
   ]
  },
  {
   "cell_type": "markdown",
   "id": "a3d266cd",
   "metadata": {
    "id": "ipafe6ptZFjt",
    "papermill": {
     "duration": 0.01277,
     "end_time": "2024-11-16T03:26:34.162736",
     "exception": false,
     "start_time": "2024-11-16T03:26:34.149966",
     "status": "completed"
    },
    "tags": []
   },
   "source": [
    "Here's what a single row looks like."
   ]
  },
  {
   "cell_type": "code",
   "execution_count": 7,
   "id": "6d0a9157",
   "metadata": {
    "execution": {
     "iopub.execute_input": "2024-11-16T03:26:34.190705Z",
     "iopub.status.busy": "2024-11-16T03:26:34.190253Z",
     "iopub.status.idle": "2024-11-16T03:26:34.196333Z",
     "shell.execute_reply": "2024-11-16T03:26:34.195154Z"
    },
    "id": "EtEXcdT39hCB",
    "papermill": {
     "duration": 0.024003,
     "end_time": "2024-11-16T03:26:34.199723",
     "exception": false,
     "start_time": "2024-11-16T03:26:34.175720",
     "status": "completed"
    },
    "tags": []
   },
   "outputs": [
    {
     "name": "stdout",
     "output_type": "stream",
     "text": [
      "From: lerxst@wam.umd.edu (where's my thing)\n",
      "Subject: WHAT car is this!?\n",
      "Nntp-Posting-Host: rac3.wam.umd.edu\n",
      "Organization: University of Maryland, College Park\n",
      "Lines: 15\n",
      "\n",
      " I was wondering if anyone out there could enlighten me on this car I saw\n",
      "the other day. It was a 2-door sports car, looked to be from the late 60s/\n",
      "early 70s. It was called a Bricklin. The doors were really small. In addition,\n",
      "the front bumper was separate from the rest of the body. This is \n",
      "all I know. If anyone can tellme a model name, engine specs, years\n",
      "of production, where this car is made, history, or whatever info you\n",
      "have on this funky looking car, please e-mail.\n",
      "\n",
      "Thanks,\n",
      "- IL\n",
      "   ---- brought to you by your neighborhood Lerxst ----\n",
      "\n",
      "\n",
      "\n",
      "\n",
      "\n"
     ]
    }
   ],
   "source": [
    "print(newsgroups_train.data[0])"
   ]
  },
  {
   "cell_type": "markdown",
   "id": "9495ca87",
   "metadata": {
    "id": "03lDs1O4ZQ0-",
    "papermill": {
     "duration": 0.013123,
     "end_time": "2024-11-16T03:26:34.226533",
     "exception": false,
     "start_time": "2024-11-16T03:26:34.213410",
     "status": "completed"
    },
    "tags": []
   },
   "source": [
    "## Prepare the dataset\n",
    "\n",
    "You'll use the same pre-processing code you used for the custom model on day 2. This pre-processing removes personal information, which can be used to \"shortcut\" to known users of a forum, and formats the text to appear a bit more like regular text and less like a newsgroup post (e.g. by removing the mail headers). This normalisation allows the model to generalise to regular text and not over-depend on specific fields. If your input data is always going to be newsgroup posts, it may be helpful to leave this structure in place if they provide genuine signals."
   ]
  },
  {
   "cell_type": "code",
   "execution_count": 8,
   "id": "dc493654",
   "metadata": {
    "execution": {
     "iopub.execute_input": "2024-11-16T03:26:34.255316Z",
     "iopub.status.busy": "2024-11-16T03:26:34.254895Z",
     "iopub.status.idle": "2024-11-16T03:26:35.191753Z",
     "shell.execute_reply": "2024-11-16T03:26:35.190454Z"
    },
    "id": "IoNYTxpoZgB0",
    "papermill": {
     "duration": 0.955059,
     "end_time": "2024-11-16T03:26:35.195018",
     "exception": false,
     "start_time": "2024-11-16T03:26:34.239959",
     "status": "completed"
    },
    "tags": []
   },
   "outputs": [],
   "source": [
    "import email\n",
    "import re\n",
    "\n",
    "import pandas as pd\n",
    "\n",
    "\n",
    "def preprocess_newsgroup_row(data):\n",
    "    # Extract only the subject and body\n",
    "    msg = email.message_from_string(data)\n",
    "    text = f\"{msg['Subject']}\\n\\n{msg.get_payload()}\"\n",
    "    # Strip any remaining email addresses\n",
    "    text = re.sub(r\"[\\w\\.-]+@[\\w\\.-]+\", \"\", text)\n",
    "    # Truncate the text to fit within the input limits\n",
    "    text = text[:40000]\n",
    "\n",
    "    return text\n",
    "\n",
    "\n",
    "def preprocess_newsgroup_data(newsgroup_dataset):\n",
    "    # Put data points into dataframe\n",
    "    df = pd.DataFrame(\n",
    "        {\"Text\": newsgroup_dataset.data, \"Label\": newsgroup_dataset.target}\n",
    "    )\n",
    "    # Clean up the text\n",
    "    df[\"Text\"] = df[\"Text\"].apply(preprocess_newsgroup_row)\n",
    "    # Match label to target name index\n",
    "    df[\"Class Name\"] = df[\"Label\"].map(lambda l: newsgroup_dataset.target_names[l])\n",
    "\n",
    "    return df"
   ]
  },
  {
   "cell_type": "code",
   "execution_count": 9,
   "id": "dae14755",
   "metadata": {
    "execution": {
     "iopub.execute_input": "2024-11-16T03:26:35.227601Z",
     "iopub.status.busy": "2024-11-16T03:26:35.226942Z",
     "iopub.status.idle": "2024-11-16T03:26:41.882885Z",
     "shell.execute_reply": "2024-11-16T03:26:41.881561Z"
    },
    "id": "kvOsUSRWaW4g",
    "papermill": {
     "duration": 6.673267,
     "end_time": "2024-11-16T03:26:41.885509",
     "exception": false,
     "start_time": "2024-11-16T03:26:35.212242",
     "status": "completed"
    },
    "tags": []
   },
   "outputs": [
    {
     "data": {
      "text/html": [
       "<div>\n",
       "<style scoped>\n",
       "    .dataframe tbody tr th:only-of-type {\n",
       "        vertical-align: middle;\n",
       "    }\n",
       "\n",
       "    .dataframe tbody tr th {\n",
       "        vertical-align: top;\n",
       "    }\n",
       "\n",
       "    .dataframe thead th {\n",
       "        text-align: right;\n",
       "    }\n",
       "</style>\n",
       "<table border=\"1\" class=\"dataframe\">\n",
       "  <thead>\n",
       "    <tr style=\"text-align: right;\">\n",
       "      <th></th>\n",
       "      <th>Text</th>\n",
       "      <th>Label</th>\n",
       "      <th>Class Name</th>\n",
       "    </tr>\n",
       "  </thead>\n",
       "  <tbody>\n",
       "    <tr>\n",
       "      <th>0</th>\n",
       "      <td>WHAT car is this!?\\n\\n I was wondering if anyo...</td>\n",
       "      <td>7</td>\n",
       "      <td>rec.autos</td>\n",
       "    </tr>\n",
       "    <tr>\n",
       "      <th>1</th>\n",
       "      <td>SI Clock Poll - Final Call\\n\\nA fair number of...</td>\n",
       "      <td>4</td>\n",
       "      <td>comp.sys.mac.hardware</td>\n",
       "    </tr>\n",
       "    <tr>\n",
       "      <th>2</th>\n",
       "      <td>PB questions...\\n\\nwell folks, my mac plus fin...</td>\n",
       "      <td>4</td>\n",
       "      <td>comp.sys.mac.hardware</td>\n",
       "    </tr>\n",
       "    <tr>\n",
       "      <th>3</th>\n",
       "      <td>Re: Weitek P9000 ?\\n\\nRobert J.C. Kyanko () wr...</td>\n",
       "      <td>1</td>\n",
       "      <td>comp.graphics</td>\n",
       "    </tr>\n",
       "    <tr>\n",
       "      <th>4</th>\n",
       "      <td>Re: Shuttle Launch Question\\n\\nFrom article &lt;&gt;...</td>\n",
       "      <td>14</td>\n",
       "      <td>sci.space</td>\n",
       "    </tr>\n",
       "  </tbody>\n",
       "</table>\n",
       "</div>"
      ],
      "text/plain": [
       "                                                Text  Label  \\\n",
       "0  WHAT car is this!?\\n\\n I was wondering if anyo...      7   \n",
       "1  SI Clock Poll - Final Call\\n\\nA fair number of...      4   \n",
       "2  PB questions...\\n\\nwell folks, my mac plus fin...      4   \n",
       "3  Re: Weitek P9000 ?\\n\\nRobert J.C. Kyanko () wr...      1   \n",
       "4  Re: Shuttle Launch Question\\n\\nFrom article <>...     14   \n",
       "\n",
       "              Class Name  \n",
       "0              rec.autos  \n",
       "1  comp.sys.mac.hardware  \n",
       "2  comp.sys.mac.hardware  \n",
       "3          comp.graphics  \n",
       "4              sci.space  "
      ]
     },
     "execution_count": 9,
     "metadata": {},
     "output_type": "execute_result"
    }
   ],
   "source": [
    "# Apply preprocessing to training and test datasets\n",
    "df_train = preprocess_newsgroup_data(newsgroups_train)\n",
    "df_test = preprocess_newsgroup_data(newsgroups_test)\n",
    "\n",
    "df_train.head()"
   ]
  },
  {
   "cell_type": "markdown",
   "id": "8214433a",
   "metadata": {
    "id": "XSKcj5WtadaR",
    "papermill": {
     "duration": 0.013165,
     "end_time": "2024-11-16T03:26:41.912180",
     "exception": false,
     "start_time": "2024-11-16T03:26:41.899015",
     "status": "completed"
    },
    "tags": []
   },
   "source": [
    "Now sample the data. You will keep 50 rows for each category for training. Note that this is even fewer than the Keras example, as this technique (parameter-efficient fine-tuning, or PEFT) updates a relatively small number of parameters and does not require training a new model or updating the large model."
   ]
  },
  {
   "cell_type": "code",
   "execution_count": 10,
   "id": "9affb667",
   "metadata": {
    "execution": {
     "iopub.execute_input": "2024-11-16T03:26:41.941041Z",
     "iopub.status.busy": "2024-11-16T03:26:41.940617Z",
     "iopub.status.idle": "2024-11-16T03:26:41.991101Z",
     "shell.execute_reply": "2024-11-16T03:26:41.989864Z"
    },
    "id": "0t9Xu6X5akkt",
    "papermill": {
     "duration": 0.06803,
     "end_time": "2024-11-16T03:26:41.993804",
     "exception": false,
     "start_time": "2024-11-16T03:26:41.925774",
     "status": "completed"
    },
    "tags": []
   },
   "outputs": [],
   "source": [
    "def sample_data(df, num_samples, classes_to_keep):\n",
    "    # Sample rows, selecting num_samples of each Label.\n",
    "    df = (\n",
    "        df.groupby(\"Label\")[df.columns]\n",
    "        .apply(lambda x: x.sample(num_samples))\n",
    "        .reset_index(drop=True)\n",
    "    )\n",
    "\n",
    "    df = df[df[\"Class Name\"].str.contains(classes_to_keep)]\n",
    "    df[\"Class Name\"] = df[\"Class Name\"].astype(\"category\")\n",
    "\n",
    "    return df\n",
    "\n",
    "\n",
    "TRAIN_NUM_SAMPLES = 50\n",
    "TEST_NUM_SAMPLES = 10\n",
    "# Keep rec.* and sci.*\n",
    "CLASSES_TO_KEEP = \"^rec|^sci\"\n",
    "\n",
    "df_train = sample_data(df_train, TRAIN_NUM_SAMPLES, CLASSES_TO_KEEP)\n",
    "df_test = sample_data(df_test, TEST_NUM_SAMPLES, CLASSES_TO_KEEP)"
   ]
  },
  {
   "cell_type": "markdown",
   "id": "77a3bf29",
   "metadata": {
    "papermill": {
     "duration": 0.013596,
     "end_time": "2024-11-16T03:26:42.021391",
     "exception": false,
     "start_time": "2024-11-16T03:26:42.007795",
     "status": "completed"
    },
    "tags": []
   },
   "source": [
    "## Evaluate baseline performance\n",
    "\n",
    "Before you start tuning a model, it's good practice to perform an evaluation on the available models to ensure you can measure how much the tuning helps.\n",
    "\n",
    "First identify a single sample row to use for visual inspection."
   ]
  },
  {
   "cell_type": "code",
   "execution_count": 11,
   "id": "855292a4",
   "metadata": {
    "execution": {
     "iopub.execute_input": "2024-11-16T03:26:42.051024Z",
     "iopub.status.busy": "2024-11-16T03:26:42.050570Z",
     "iopub.status.idle": "2024-11-16T03:26:42.057257Z",
     "shell.execute_reply": "2024-11-16T03:26:42.056181Z"
    },
    "papermill": {
     "duration": 0.024976,
     "end_time": "2024-11-16T03:26:42.060643",
     "exception": false,
     "start_time": "2024-11-16T03:26:42.035667",
     "status": "completed"
    },
    "tags": []
   },
   "outputs": [
    {
     "name": "stdout",
     "output_type": "stream",
     "text": [
      "Need info on 88-89 Bonneville\n",
      "\n",
      "\n",
      " I am a little confused on all of the models of the 88-89 bonnevilles.\n",
      "I have heard of the LE SE LSE SSE SSEI. Could someone tell me the\n",
      "differences are far as features or performance. I am also curious to\n",
      "know what the book value is for prefereably the 89 model. And how much\n",
      "less than book value can you usually get them for. In other words how\n",
      "much are they in demand this time of year. I have heard that the mid-spring\n",
      "early summer is the best time to buy.\n",
      "\n",
      "\t\t\tNeil Gandler\n",
      "\n",
      "---\n",
      "Label: rec.autos\n"
     ]
    }
   ],
   "source": [
    "sample_idx = 0\n",
    "sample_row = preprocess_newsgroup_row(newsgroups_test.data[sample_idx])\n",
    "sample_label = newsgroups_test.target_names[newsgroups_test.target[sample_idx]]\n",
    "\n",
    "print(sample_row)\n",
    "print('---')\n",
    "print('Label:', sample_label)"
   ]
  },
  {
   "cell_type": "markdown",
   "id": "9279f432",
   "metadata": {
    "papermill": {
     "duration": 0.013495,
     "end_time": "2024-11-16T03:26:42.089575",
     "exception": false,
     "start_time": "2024-11-16T03:26:42.076080",
     "status": "completed"
    },
    "tags": []
   },
   "source": [
    "Passing the text directly in as a prompt does not yield the desired results. The model will attempt to respond to the message."
   ]
  },
  {
   "cell_type": "code",
   "execution_count": 12,
   "id": "b96d5d38",
   "metadata": {
    "execution": {
     "iopub.execute_input": "2024-11-16T03:26:42.119246Z",
     "iopub.status.busy": "2024-11-16T03:26:42.118813Z",
     "iopub.status.idle": "2024-11-16T03:26:45.968087Z",
     "shell.execute_reply": "2024-11-16T03:26:45.966745Z"
    },
    "papermill": {
     "duration": 3.867967,
     "end_time": "2024-11-16T03:26:45.971680",
     "exception": false,
     "start_time": "2024-11-16T03:26:42.103713",
     "status": "completed"
    },
    "tags": []
   },
   "outputs": [
    {
     "name": "stdout",
     "output_type": "stream",
     "text": [
      "## 1988-1989 Pontiac Bonneville: A Model Breakdown\n",
      "\n",
      "You're right, the 1988-1989 Bonneville models can be confusing! Here's a breakdown to help you:\n",
      "\n",
      "**Base Model:**\n",
      "\n",
      "* **Standard Features:**  This model offered basic features, including a 3.8L V6 engine, power steering, brakes, and windows, and a cloth interior.\n",
      "* **Performance:**  The base model was known for its fuel efficiency but wasn't particularly sporty.\n",
      "\n",
      "**LE (Luxury Edition):**\n",
      "\n",
      "* **Standard Features:** This trim offered more luxury features over the base model, including velour seats, leather-wrapped steering wheel, and optional features like a sunroof.\n",
      "* **Performance:**  Still using the 3.8L V6, the LE offered a slightly plusher driving experience but no real performance boost.\n",
      "\n",
      "**SE (Special Edition):**\n",
      "\n",
      "* **Standard Features:**  The SE model added a more sporty look with features like a black grille, unique wheels, and body side moldings.\n",
      "* **Performance:** The SE was essentially a base model with some cosmetic enhancements and didn't receive any significant performance upgrades.\n",
      "\n",
      "**LSE (Luxury Special Edition):**\n",
      "\n",
      "* **Standard Features:**  This trim combined the luxury of the LE with the sporty features of the SE, offering the best of both worlds. \n",
      "* **Performance:** Still reliant on the 3.8L V6, the LSE was meant to offer a balance of comfort and style.\n",
      "\n",
      "**SSE (Sport Sedan Edition):**\n",
      "\n",
      "* **Standard Features:**  The SSE brought in a 3.8L V6 engine with a tuned intake and exhaust for better performance, unique exterior styling cues, and sportier interior features like bucket seats. \n",
      "* **Performance:**  The SSE offered a more enjoyable driving experience compared to other trims, with quicker acceleration and better handling.\n",
      "\n",
      "**SSEi (Sport Sedan Edition, fuel-injected):**\n",
      "\n",
      "* **Standard Features:**  Similar to the SSE, but with the addition of fuel injection for improved performance and fuel efficiency.\n",
      "* **Performance:**  The SSEi was the most powerful Bonneville, offering the best acceleration and handling amongst all the trims.\n",
      "\n",
      "**Book Value:**\n",
      "\n",
      "* Due to the age of these vehicles, it's challenging to find precise book values online. \n",
      "* Consider using resources like Kelley Blue Book (KBB) or Edmunds to get an estimate for the 1989 model year. \n",
      "* Remember that book value is just a guide. The actual value will vary depending on the condition, mileage, and options of the specific vehicle.\n",
      "\n",
      "**Negotiating Price:**\n",
      "\n",
      "*  It's true that mid-spring to early summer can be a good time to buy a used car, as dealerships often have more inventory and are more willing to negotiate.\n",
      "*  The \"usual\" discount from book value is hard to pinpoint, as it depends on many factors. Be prepared to haggle and research comparable vehicles to determine a fair price.\n",
      "*  Always have a pre-purchase inspection performed by a trusted mechanic before buying any used car.\n",
      "\n",
      "**Final Thoughts:**\n",
      "\n",
      "The 1988-1989 Pontiac Bonneville offers a range of models with varying features and performance levels. Determine what's most important to you: luxury, sportiness, or fuel efficiency. Once you have a better idea of your needs, research the book values and be ready to negotiate for a fair price! \n",
      "\n"
     ]
    }
   ],
   "source": [
    "baseline_model = genai.GenerativeModel(\"gemini-1.5-flash-001\")\n",
    "response = baseline_model.generate_content(sample_row)\n",
    "print(response.text)"
   ]
  },
  {
   "cell_type": "markdown",
   "id": "efe0fe24",
   "metadata": {
    "papermill": {
     "duration": 0.013539,
     "end_time": "2024-11-16T03:26:45.999437",
     "exception": false,
     "start_time": "2024-11-16T03:26:45.985898",
     "status": "completed"
    },
    "tags": []
   },
   "source": [
    "You can use the prompt engineering techniques you have learned this week to induce the model to perform the desired task. Try some of your own ideas and see what is effective, or check out the following cells for different approaches. Note that they have different levels of effectiveness!"
   ]
  },
  {
   "cell_type": "code",
   "execution_count": 13,
   "id": "468e7a1d",
   "metadata": {
    "execution": {
     "iopub.execute_input": "2024-11-16T03:26:46.029135Z",
     "iopub.status.busy": "2024-11-16T03:26:46.028716Z",
     "iopub.status.idle": "2024-11-16T03:26:47.630377Z",
     "shell.execute_reply": "2024-11-16T03:26:47.629121Z"
    },
    "papermill": {
     "duration": 1.620134,
     "end_time": "2024-11-16T03:26:47.633381",
     "exception": false,
     "start_time": "2024-11-16T03:26:46.013247",
     "status": "completed"
    },
    "tags": []
   },
   "outputs": [
    {
     "name": "stdout",
     "output_type": "stream",
     "text": [
      "Based on the content and style of the message, it's highly likely that it originated from a **newsgroup dedicated to Pontiac vehicles**, specifically the **Bonneville**. \n",
      "\n",
      "Here's why:\n",
      "\n",
      "* **Specific Model References:** The message mentions various Bonneville trim levels like LE, SE, LSE, SSE, and SSEi. This indicates the author is familiar with the model and its variants. \n",
      "* **Book Value and Pricing:**  The message focuses on the car's value, asking for book value and typical discount percentages. This is a common topic of discussion in car-related newsgroups. \n",
      "* **Seasonal Buying Tips:**  The mention of \"mid-spring early summer\" being the best time to buy suggests the author is engaging in a car-buying discussion. \n",
      "\n",
      "Therefore, the newsgroup is likely a place where Pontiac enthusiasts, owners, or potential buyers gather to exchange information and discuss the Bonneville. Some possible newsgroup names could be:\n",
      "\n",
      "* **alt.autos.pontiac**\n",
      "* **rec.autos.pontiac**\n",
      "* **rec.autos.bonneville**\n",
      "* **comp.autos.pontiac**\n",
      "* **comp.autos.bonneville**\n",
      "\n",
      "However, without knowing the exact newsgroup name, it's impossible to be certain. \n",
      "\n"
     ]
    }
   ],
   "source": [
    "# Ask the model directly in a zero-shot prompt.\n",
    "\n",
    "prompt = \"From what newsgroup does the following message originate?\"\n",
    "baseline_response = baseline_model.generate_content([prompt, sample_row])\n",
    "print(baseline_response.text)"
   ]
  },
  {
   "cell_type": "markdown",
   "id": "7f41434b",
   "metadata": {
    "papermill": {
     "duration": 0.014796,
     "end_time": "2024-11-16T03:26:47.663200",
     "exception": false,
     "start_time": "2024-11-16T03:26:47.648404",
     "status": "completed"
    },
    "tags": []
   },
   "source": [
    "That technique produces quite a verbose response. You could try and pick out the relevant text, or refine the prompt even further."
   ]
  },
  {
   "cell_type": "code",
   "execution_count": 14,
   "id": "97a41f78",
   "metadata": {
    "execution": {
     "iopub.execute_input": "2024-11-16T03:26:47.694328Z",
     "iopub.status.busy": "2024-11-16T03:26:47.693874Z",
     "iopub.status.idle": "2024-11-16T03:26:48.288610Z",
     "shell.execute_reply": "2024-11-16T03:26:48.287186Z"
    },
    "papermill": {
     "duration": 0.613804,
     "end_time": "2024-11-16T03:26:48.291753",
     "exception": false,
     "start_time": "2024-11-16T03:26:47.677949",
     "status": "completed"
    },
    "tags": []
   },
   "outputs": [
    {
     "name": "stdout",
     "output_type": "stream",
     "text": [
      "rec.autos.misc\n",
      "\n",
      "Incorrect.\n"
     ]
    }
   ],
   "source": [
    "from google.api_core import retry\n",
    "\n",
    "# You can use a system instruction to do more direct prompting, and get a\n",
    "# more succinct answer.\n",
    "\n",
    "system_instruct = \"\"\"\n",
    "You are a classification service. You will be passed input that represents\n",
    "a newsgroup post and you must respond with the newsgroup from which the post\n",
    "originates.\n",
    "\"\"\"\n",
    "\n",
    "instructed_model = genai.GenerativeModel(\"gemini-1.5-flash-001\",\n",
    "                                         system_instruction=system_instruct)\n",
    "\n",
    "retry_policy = {\"retry\": retry.Retry(predicate=retry.if_transient_error)}\n",
    "\n",
    "# If you want to evaluate your own technique, replace this function with your\n",
    "# model, prompt and other code and return the predicted answer.\n",
    "def predict_label(post: str) -> str:\n",
    "    response = instructed_model.generate_content(sample_row, request_options=retry_policy)\n",
    "    # Clean up the response.\n",
    "    return response.text.strip()\n",
    "\n",
    "\n",
    "prediction = predict_label(sample_row)\n",
    "\n",
    "print(prediction)\n",
    "print()\n",
    "print(\"Correct!\" if prediction == sample_label else \"Incorrect.\")"
   ]
  },
  {
   "cell_type": "markdown",
   "id": "fdb2c1e6",
   "metadata": {
    "papermill": {
     "duration": 0.014554,
     "end_time": "2024-11-16T03:26:48.320819",
     "exception": false,
     "start_time": "2024-11-16T03:26:48.306265",
     "status": "completed"
    },
    "tags": []
   },
   "source": [
    "Now run a short evaluation using the function defined above. The test set is further sampled to ensure the experiment runs smoothly on the API's free tier. In practice you would evaluate over the whole set."
   ]
  },
  {
   "cell_type": "code",
   "execution_count": 15,
   "id": "7797f8e5",
   "metadata": {
    "execution": {
     "iopub.execute_input": "2024-11-16T03:26:48.353304Z",
     "iopub.status.busy": "2024-11-16T03:26:48.352804Z",
     "iopub.status.idle": "2024-11-16T03:26:54.761296Z",
     "shell.execute_reply": "2024-11-16T03:26:54.760136Z"
    },
    "papermill": {
     "duration": 6.428662,
     "end_time": "2024-11-16T03:26:54.764163",
     "exception": false,
     "start_time": "2024-11-16T03:26:48.335501",
     "status": "completed"
    },
    "tags": []
   },
   "outputs": [
    {
     "data": {
      "application/vnd.jupyter.widget-view+json": {
       "model_id": "6c0ce9c90625459982aff947aeac80f9",
       "version_major": 2,
       "version_minor": 0
      },
      "text/plain": [
       "Output()"
      ]
     },
     "metadata": {},
     "output_type": "display_data"
    },
    {
     "name": "stderr",
     "output_type": "stream",
     "text": [
      "/opt/conda/lib/python3.10/site-packages/tqdm/std.py:885: TqdmExperimentalWarning: rich is experimental/alpha\n",
      "  t = cls(total=total, **tqdm_kwargs)\n"
     ]
    },
    {
     "data": {
      "text/html": [
       "<pre style=\"white-space:pre;overflow-x:auto;line-height:normal;font-family:Menlo,'DejaVu Sans Mono',consolas,'Courier New',monospace\"></pre>\n"
      ],
      "text/plain": []
     },
     "metadata": {},
     "output_type": "display_data"
    },
    {
     "data": {
      "text/html": [
       "<pre style=\"white-space:pre;overflow-x:auto;line-height:normal;font-family:Menlo,'DejaVu Sans Mono',consolas,'Courier New',monospace\">\n",
       "</pre>\n"
      ],
      "text/plain": [
       "\n"
      ]
     },
     "metadata": {},
     "output_type": "display_data"
    },
    {
     "name": "stdout",
     "output_type": "stream",
     "text": [
      "Accuracy: 0.00%\n"
     ]
    }
   ],
   "source": [
    "from tqdm.rich import tqdm\n",
    "\n",
    "tqdm.pandas()\n",
    "\n",
    "\n",
    "# Further sample the test data to be mindful of the free-tier quota.\n",
    "df_baseline_eval = sample_data(df_test, 2, '.*')\n",
    "\n",
    "# Make predictions using the sampled data.\n",
    "df_baseline_eval['Prediction'] = df_baseline_eval['Text'].progress_apply(predict_label)\n",
    "\n",
    "# And calculate the accuracy.\n",
    "accuracy = (df_baseline_eval[\"Class Name\"] == df_baseline_eval[\"Prediction\"]).sum() / len(df_baseline_eval)\n",
    "print(f\"Accuracy: {accuracy:.2%}\")"
   ]
  },
  {
   "cell_type": "markdown",
   "id": "22500698",
   "metadata": {
    "papermill": {
     "duration": 0.017155,
     "end_time": "2024-11-16T03:26:54.800223",
     "exception": false,
     "start_time": "2024-11-16T03:26:54.783068",
     "status": "completed"
    },
    "tags": []
   },
   "source": [
    "Now take a look at the dataframe to compare the predictions with the labels."
   ]
  },
  {
   "cell_type": "code",
   "execution_count": 16,
   "id": "9fa6edce",
   "metadata": {
    "execution": {
     "iopub.execute_input": "2024-11-16T03:26:54.974992Z",
     "iopub.status.busy": "2024-11-16T03:26:54.974683Z",
     "iopub.status.idle": "2024-11-16T03:26:54.989477Z",
     "shell.execute_reply": "2024-11-16T03:26:54.988305Z"
    },
    "papermill": {
     "duration": 0.17301,
     "end_time": "2024-11-16T03:26:54.991966",
     "exception": false,
     "start_time": "2024-11-16T03:26:54.818956",
     "status": "completed"
    },
    "tags": []
   },
   "outputs": [
    {
     "data": {
      "text/html": [
       "<div>\n",
       "<style scoped>\n",
       "    .dataframe tbody tr th:only-of-type {\n",
       "        vertical-align: middle;\n",
       "    }\n",
       "\n",
       "    .dataframe tbody tr th {\n",
       "        vertical-align: top;\n",
       "    }\n",
       "\n",
       "    .dataframe thead th {\n",
       "        text-align: right;\n",
       "    }\n",
       "</style>\n",
       "<table border=\"1\" class=\"dataframe\">\n",
       "  <thead>\n",
       "    <tr style=\"text-align: right;\">\n",
       "      <th></th>\n",
       "      <th>Text</th>\n",
       "      <th>Label</th>\n",
       "      <th>Class Name</th>\n",
       "      <th>Prediction</th>\n",
       "    </tr>\n",
       "  </thead>\n",
       "  <tbody>\n",
       "    <tr>\n",
       "      <th>0</th>\n",
       "      <td>Thanks - '86 Nova Advice\\n\\nI want to thank al...</td>\n",
       "      <td>7</td>\n",
       "      <td>rec.autos</td>\n",
       "      <td>rec.autos.misc</td>\n",
       "    </tr>\n",
       "    <tr>\n",
       "      <th>1</th>\n",
       "      <td>Re: RFI: Art of clutchless shifting\\n\\nIn arti...</td>\n",
       "      <td>7</td>\n",
       "      <td>rec.autos</td>\n",
       "      <td>rec.autos.misc</td>\n",
       "    </tr>\n",
       "    <tr>\n",
       "      <th>2</th>\n",
       "      <td>Re: Type spesifications (CB, VFR, GT, etc.)\\n\\...</td>\n",
       "      <td>8</td>\n",
       "      <td>rec.motorcycles</td>\n",
       "      <td>rec.autos.pontiac</td>\n",
       "    </tr>\n",
       "    <tr>\n",
       "      <th>3</th>\n",
       "      <td>Re: Shaft-drives and Wheelies\\n\\nIn article &lt;&gt;...</td>\n",
       "      <td>8</td>\n",
       "      <td>rec.motorcycles</td>\n",
       "      <td>rec.autos.misc</td>\n",
       "    </tr>\n",
       "    <tr>\n",
       "      <th>4</th>\n",
       "      <td>Re: Jack Morris\\n\\n (John Franjione) writes:\\n...</td>\n",
       "      <td>9</td>\n",
       "      <td>rec.sport.baseball</td>\n",
       "      <td>rec.autos.misc</td>\n",
       "    </tr>\n",
       "    <tr>\n",
       "      <th>5</th>\n",
       "      <td>How to start Cardinals Mailing list?\\n\\n\\nO.K....</td>\n",
       "      <td>9</td>\n",
       "      <td>rec.sport.baseball</td>\n",
       "      <td>rec.autos.pontiac</td>\n",
       "    </tr>\n",
       "    <tr>\n",
       "      <th>6</th>\n",
       "      <td>Re: ESPN\\n\\nIn article &lt;&gt;  (Susan Dart) writes...</td>\n",
       "      <td>10</td>\n",
       "      <td>rec.sport.hockey</td>\n",
       "      <td>rec.autos.misc</td>\n",
       "    </tr>\n",
       "    <tr>\n",
       "      <th>7</th>\n",
       "      <td>Re: Wings News and Playoff Thoughts\\n\\nI wrote...</td>\n",
       "      <td>10</td>\n",
       "      <td>rec.sport.hockey</td>\n",
       "      <td>rec.autos.misc</td>\n",
       "    </tr>\n",
       "    <tr>\n",
       "      <th>8</th>\n",
       "      <td>Re: Does Rush read his E-mail?\\n\\nIn article &lt;...</td>\n",
       "      <td>11</td>\n",
       "      <td>sci.crypt</td>\n",
       "      <td>rec.autos.misc</td>\n",
       "    </tr>\n",
       "    <tr>\n",
       "      <th>9</th>\n",
       "      <td>PGP Where to get it?\\n\\n        I am both new ...</td>\n",
       "      <td>11</td>\n",
       "      <td>sci.crypt</td>\n",
       "      <td>rec.autos.misc</td>\n",
       "    </tr>\n",
       "    <tr>\n",
       "      <th>10</th>\n",
       "      <td>HELP...high data link\\n\\nI have a couple appli...</td>\n",
       "      <td>12</td>\n",
       "      <td>sci.electronics</td>\n",
       "      <td>rec.autos.misc</td>\n",
       "    </tr>\n",
       "    <tr>\n",
       "      <th>11</th>\n",
       "      <td>Re: Pink Noise\\n\\nIn article &lt;&gt;  (David Sharpe...</td>\n",
       "      <td>12</td>\n",
       "      <td>sci.electronics</td>\n",
       "      <td>rec.autos.misc</td>\n",
       "    </tr>\n",
       "    <tr>\n",
       "      <th>12</th>\n",
       "      <td>Celery and Hypertension\\n\\nSomewhere or other ...</td>\n",
       "      <td>13</td>\n",
       "      <td>sci.med</td>\n",
       "      <td>rec.autos.pontiac</td>\n",
       "    </tr>\n",
       "    <tr>\n",
       "      <th>13</th>\n",
       "      <td>Help with antidepressants requested.\\n\\nHello ...</td>\n",
       "      <td>13</td>\n",
       "      <td>sci.med</td>\n",
       "      <td>rec.autos.misc</td>\n",
       "    </tr>\n",
       "    <tr>\n",
       "      <th>14</th>\n",
       "      <td>Revival of San Marco? (was Re: Commercial Spac...</td>\n",
       "      <td>14</td>\n",
       "      <td>sci.space</td>\n",
       "      <td>rec.autos.misc</td>\n",
       "    </tr>\n",
       "    <tr>\n",
       "      <th>15</th>\n",
       "      <td>Re: Soyuz and Shuttle Comparisons\\n\\nIn articl...</td>\n",
       "      <td>14</td>\n",
       "      <td>sci.space</td>\n",
       "      <td>rec.autos.misc</td>\n",
       "    </tr>\n",
       "  </tbody>\n",
       "</table>\n",
       "</div>"
      ],
      "text/plain": [
       "                                                 Text  Label  \\\n",
       "0   Thanks - '86 Nova Advice\\n\\nI want to thank al...      7   \n",
       "1   Re: RFI: Art of clutchless shifting\\n\\nIn arti...      7   \n",
       "2   Re: Type spesifications (CB, VFR, GT, etc.)\\n\\...      8   \n",
       "3   Re: Shaft-drives and Wheelies\\n\\nIn article <>...      8   \n",
       "4   Re: Jack Morris\\n\\n (John Franjione) writes:\\n...      9   \n",
       "5   How to start Cardinals Mailing list?\\n\\n\\nO.K....      9   \n",
       "6   Re: ESPN\\n\\nIn article <>  (Susan Dart) writes...     10   \n",
       "7   Re: Wings News and Playoff Thoughts\\n\\nI wrote...     10   \n",
       "8   Re: Does Rush read his E-mail?\\n\\nIn article <...     11   \n",
       "9   PGP Where to get it?\\n\\n        I am both new ...     11   \n",
       "10  HELP...high data link\\n\\nI have a couple appli...     12   \n",
       "11  Re: Pink Noise\\n\\nIn article <>  (David Sharpe...     12   \n",
       "12  Celery and Hypertension\\n\\nSomewhere or other ...     13   \n",
       "13  Help with antidepressants requested.\\n\\nHello ...     13   \n",
       "14  Revival of San Marco? (was Re: Commercial Spac...     14   \n",
       "15  Re: Soyuz and Shuttle Comparisons\\n\\nIn articl...     14   \n",
       "\n",
       "            Class Name         Prediction  \n",
       "0            rec.autos     rec.autos.misc  \n",
       "1            rec.autos     rec.autos.misc  \n",
       "2      rec.motorcycles  rec.autos.pontiac  \n",
       "3      rec.motorcycles     rec.autos.misc  \n",
       "4   rec.sport.baseball     rec.autos.misc  \n",
       "5   rec.sport.baseball  rec.autos.pontiac  \n",
       "6     rec.sport.hockey     rec.autos.misc  \n",
       "7     rec.sport.hockey     rec.autos.misc  \n",
       "8            sci.crypt     rec.autos.misc  \n",
       "9            sci.crypt     rec.autos.misc  \n",
       "10     sci.electronics     rec.autos.misc  \n",
       "11     sci.electronics     rec.autos.misc  \n",
       "12             sci.med  rec.autos.pontiac  \n",
       "13             sci.med     rec.autos.misc  \n",
       "14           sci.space     rec.autos.misc  \n",
       "15           sci.space     rec.autos.misc  "
      ]
     },
     "execution_count": 16,
     "metadata": {},
     "output_type": "execute_result"
    }
   ],
   "source": [
    "df_baseline_eval"
   ]
  },
  {
   "cell_type": "markdown",
   "id": "45923777",
   "metadata": {
    "id": "Ok7ugrLzcghX",
    "papermill": {
     "duration": 0.015385,
     "end_time": "2024-11-16T03:26:55.023201",
     "exception": false,
     "start_time": "2024-11-16T03:26:55.007816",
     "status": "completed"
    },
    "tags": []
   },
   "source": [
    "## Tune a custom model\n",
    "\n",
    "In this example you'll use tuning to help create a model that requires no prompting or system instructions and outputs succinct text from the classes you provide in the training data.\n",
    "\n",
    "The data contains both input text (the processed posts) and output text (the category, or newsgroup), which you can use to start tuning a model.\n",
    "\n",
    "The Python SDK for tuning supports Pandas dataframes as input, so you don't need any custom data generators or pipelines. Just specify the input and the relevant columns as the `input_key` and `output_key`.\n",
    "\n",
    "When calling `create_tuned_model`, you can specify model tuning hyperparameters too:\n",
    " - `epoch_count`: defines how many times to loop through the data,\n",
    " - `batch_size`: defines how many rows to process in a single step, and\n",
    " - `learning_rate`: defines the scaling factor for updating model weights at each step.\n",
    "\n",
    "You can also choose to omit them and use the defaults. [Learn more](https://developers.google.com/machine-learning/crash-course/linear-regression/hyperparameters) about these parameters and how they work. For this example these parameters were selected by running some tuning jobs and selecting parameters that were both effective and quick."
   ]
  },
  {
   "cell_type": "code",
   "execution_count": 17,
   "id": "56d813c2",
   "metadata": {
    "execution": {
     "iopub.execute_input": "2024-11-16T03:26:55.056319Z",
     "iopub.status.busy": "2024-11-16T03:26:55.055873Z",
     "iopub.status.idle": "2024-11-16T03:26:56.032245Z",
     "shell.execute_reply": "2024-11-16T03:26:56.031169Z"
    },
    "id": "pWOZlspfY8dV",
    "papermill": {
     "duration": 0.995915,
     "end_time": "2024-11-16T03:26:56.034871",
     "exception": false,
     "start_time": "2024-11-16T03:26:55.038956",
     "status": "completed"
    },
    "tags": []
   },
   "outputs": [
    {
     "name": "stdout",
     "output_type": "stream",
     "text": [
      "newsgroup-classifier-78065\n"
     ]
    }
   ],
   "source": [
    "from collections.abc import Iterable\n",
    "import random\n",
    "\n",
    "\n",
    "# Append a random number to the model ID so you can re-run with a higher chance\n",
    "# of creating a unique model ID.\n",
    "model_id = f\"newsgroup-classifier-{random.randint(10000, 99999)}\"\n",
    "\n",
    "# Upload the training data and queue the tuning job.\n",
    "tuning_op = genai.create_tuned_model(\n",
    "    \"models/gemini-1.5-flash-001-tuning\",\n",
    "    training_data=df_train,\n",
    "    input_key=\"Text\",  # the column to use as input\n",
    "    output_key=\"Class Name\",  # the column to use as output\n",
    "    id=model_id,\n",
    "    display_name=\"Newsgroup classification model\",\n",
    "    batch_size=16,\n",
    "    epoch_count=2,\n",
    ")\n",
    "\n",
    "print(model_id)"
   ]
  },
  {
   "cell_type": "markdown",
   "id": "75299b55",
   "metadata": {
    "id": "NQ3YZ2MBubCY",
    "papermill": {
     "duration": 0.014855,
     "end_time": "2024-11-16T03:26:56.065283",
     "exception": false,
     "start_time": "2024-11-16T03:26:56.050428",
     "status": "completed"
    },
    "tags": []
   },
   "source": [
    "This has created a tuning job that will run in the background. To inspect the progress of the tuning job, run this cell to plot the current status and loss curve. Once the status reaches `ACTIVE`, tuning is complete and the model is ready to use.\n",
    "\n",
    "Tuning jobs are queued, so it may look like no training steps have been taken initially but it will progress. Tuning can take upwards of 20 minutes, depending on factors like your dataset size and how busy the tuning infrastrature is. Why not treat yourself to a nice cup of tea while you wait, or come and say \"Hi!\" to [yours truly](https://discord.com/users/132124213132787712) in the group [Discord](https://discord.com/invite/kaggle).\n",
    "\n",
    "It is safe to stop this cell at any point. It will not stop the tuning job."
   ]
  },
  {
   "cell_type": "code",
   "execution_count": 18,
   "id": "b506e1e6",
   "metadata": {
    "execution": {
     "iopub.execute_input": "2024-11-16T03:26:56.098001Z",
     "iopub.status.busy": "2024-11-16T03:26:56.097566Z",
     "iopub.status.idle": "2024-11-16T03:31:59.179386Z",
     "shell.execute_reply": "2024-11-16T03:31:59.178093Z"
    },
    "id": "c4ef5f13692d",
    "papermill": {
     "duration": 303.116626,
     "end_time": "2024-11-16T03:31:59.197181",
     "exception": false,
     "start_time": "2024-11-16T03:26:56.080555",
     "status": "completed"
    },
    "tags": []
   },
   "outputs": [
    {
     "name": "stdout",
     "output_type": "stream",
     "text": [
      "State.CREATING\n",
      "State.CREATING\n"
     ]
    },
    {
     "name": "stderr",
     "output_type": "stream",
     "text": [
      "/opt/conda/lib/python3.10/site-packages/seaborn/_oldcore.py:1119: FutureWarning: use_inf_as_na option is deprecated and will be removed in a future version. Convert inf values to NaN before operating instead.\n",
      "  with pd.option_context('mode.use_inf_as_na', True):\n",
      "/opt/conda/lib/python3.10/site-packages/seaborn/_oldcore.py:1119: FutureWarning: use_inf_as_na option is deprecated and will be removed in a future version. Convert inf values to NaN before operating instead.\n",
      "  with pd.option_context('mode.use_inf_as_na', True):\n"
     ]
    },
    {
     "name": "stdout",
     "output_type": "stream",
     "text": [
      "State.CREATING\n"
     ]
    },
    {
     "name": "stderr",
     "output_type": "stream",
     "text": [
      "/opt/conda/lib/python3.10/site-packages/seaborn/_oldcore.py:1119: FutureWarning: use_inf_as_na option is deprecated and will be removed in a future version. Convert inf values to NaN before operating instead.\n",
      "  with pd.option_context('mode.use_inf_as_na', True):\n",
      "/opt/conda/lib/python3.10/site-packages/seaborn/_oldcore.py:1119: FutureWarning: use_inf_as_na option is deprecated and will be removed in a future version. Convert inf values to NaN before operating instead.\n",
      "  with pd.option_context('mode.use_inf_as_na', True):\n"
     ]
    },
    {
     "name": "stdout",
     "output_type": "stream",
     "text": [
      "State.CREATING\n"
     ]
    },
    {
     "name": "stderr",
     "output_type": "stream",
     "text": [
      "/opt/conda/lib/python3.10/site-packages/seaborn/_oldcore.py:1119: FutureWarning: use_inf_as_na option is deprecated and will be removed in a future version. Convert inf values to NaN before operating instead.\n",
      "  with pd.option_context('mode.use_inf_as_na', True):\n",
      "/opt/conda/lib/python3.10/site-packages/seaborn/_oldcore.py:1119: FutureWarning: use_inf_as_na option is deprecated and will be removed in a future version. Convert inf values to NaN before operating instead.\n",
      "  with pd.option_context('mode.use_inf_as_na', True):\n"
     ]
    },
    {
     "name": "stdout",
     "output_type": "stream",
     "text": [
      "State.CREATING\n",
      "Done! The model is ACTIVE\n"
     ]
    },
    {
     "data": {
      "image/png": "[encoded data removed]",
      "text/plain": [
       "<Figure size 640x480 with 1 Axes>"
      ]
     },
     "metadata": {},
     "output_type": "display_data"
    }
   ],
   "source": [
    "import time\n",
    "import seaborn as sns\n",
    "\n",
    "\n",
    "while (tuned_model := genai.get_tuned_model(f\"tunedModels/{model_id}\")).state.name != 'ACTIVE':\n",
    "\n",
    "    if tuned_model.tuning_task.snapshots:\n",
    "        # If the tuning task has started, this will draw the loss so far.\n",
    "        snapshots = pd.DataFrame(tuned_model.tuning_task.snapshots)\n",
    "        sns.lineplot(data=snapshots, x=\"step\", y=\"mean_loss\")\n",
    "    \n",
    "    print(tuned_model.state)\n",
    "\n",
    "    time.sleep(60)\n",
    "\n",
    "print(f\"Done! The model is {tuned_model.state.name}\")"
   ]
  },
  {
   "cell_type": "markdown",
   "id": "bb120991",
   "metadata": {
    "id": "9-qiIdK4u80z",
    "papermill": {
     "duration": 0.01682,
     "end_time": "2024-11-16T03:31:59.231071",
     "exception": false,
     "start_time": "2024-11-16T03:31:59.214251",
     "status": "completed"
    },
    "tags": []
   },
   "source": [
    "## Use the new model\n",
    "\n",
    "Now that you have a tuned model, try it out with custom data. You use the same API as a normal Gemini API interaction, but you specify your new model as the model name, using the `tunedModels/` prefix."
   ]
  },
  {
   "cell_type": "code",
   "execution_count": 19,
   "id": "dbe55483",
   "metadata": {
    "execution": {
     "iopub.execute_input": "2024-11-16T03:31:59.267839Z",
     "iopub.status.busy": "2024-11-16T03:31:59.266935Z",
     "iopub.status.idle": "2024-11-16T03:32:07.533914Z",
     "shell.execute_reply": "2024-11-16T03:32:07.532413Z"
    },
    "id": "hyO2-MXLvM6a",
    "papermill": {
     "duration": 8.288701,
     "end_time": "2024-11-16T03:32:07.536579",
     "exception": false,
     "start_time": "2024-11-16T03:31:59.247878",
     "status": "completed"
    },
    "tags": []
   },
   "outputs": [
    {
     "name": "stdout",
     "output_type": "stream",
     "text": [
      "sci.space\n"
     ]
    }
   ],
   "source": [
    "your_model = genai.GenerativeModel(f\"tunedModels/{model_id}\")\n",
    "\n",
    "new_text = \"\"\"\n",
    "First-timer looking to get out of here.\n",
    "\n",
    "Hi, I'm writing about my interest in travelling to the outer limits!\n",
    "\n",
    "What kind of craft can I buy? What is easiest to access from this 3rd rock?\n",
    "\n",
    "Let me know how to do that please.\n",
    "\"\"\"\n",
    "\n",
    "response = your_model.generate_content(new_text)\n",
    "print(response.text)"
   ]
  },
  {
   "cell_type": "markdown",
   "id": "e1452b5d",
   "metadata": {
    "id": "xajLek9DySH_",
    "papermill": {
     "duration": 0.016356,
     "end_time": "2024-11-16T03:32:07.569659",
     "exception": false,
     "start_time": "2024-11-16T03:32:07.553303",
     "status": "completed"
    },
    "tags": []
   },
   "source": [
    "### Evaluation\n",
    "\n",
    "You can see that the model outputs labels that correspond to those in the training data, and without any system instructions or prompting, which is already a great improvement. Now see how well it performs on the test set.\n",
    "\n",
    "Note that there is no parallelism in this example; classifying the test sub-set will take a few minutes."
   ]
  },
  {
   "cell_type": "code",
   "execution_count": 20,
   "id": "2284f3dd",
   "metadata": {
    "execution": {
     "iopub.execute_input": "2024-11-16T03:32:07.605272Z",
     "iopub.status.busy": "2024-11-16T03:32:07.604733Z",
     "iopub.status.idle": "2024-11-16T03:33:13.586639Z",
     "shell.execute_reply": "2024-11-16T03:33:13.585427Z"
    },
    "id": "6T2Y3ZApvbMw",
    "papermill": {
     "duration": 66.003346,
     "end_time": "2024-11-16T03:33:13.589767",
     "exception": false,
     "start_time": "2024-11-16T03:32:07.586421",
     "status": "completed"
    },
    "tags": []
   },
   "outputs": [
    {
     "data": {
      "application/vnd.jupyter.widget-view+json": {
       "model_id": "eb6c54f04dc944a9ad1846a3379da8ee",
       "version_major": 2,
       "version_minor": 0
      },
      "text/plain": [
       "Output()"
      ]
     },
     "metadata": {},
     "output_type": "display_data"
    },
    {
     "name": "stderr",
     "output_type": "stream",
     "text": [
      "/opt/conda/lib/python3.10/site-packages/tqdm/std.py:885: TqdmExperimentalWarning: rich is experimental/alpha\n",
      "  t = cls(total=total, **tqdm_kwargs)\n"
     ]
    },
    {
     "data": {
      "text/html": [
       "<pre style=\"white-space:pre;overflow-x:auto;line-height:normal;font-family:Menlo,'DejaVu Sans Mono',consolas,'Courier New',monospace\"></pre>\n"
      ],
      "text/plain": []
     },
     "metadata": {},
     "output_type": "display_data"
    },
    {
     "data": {
      "text/html": [
       "<pre style=\"white-space:pre;overflow-x:auto;line-height:normal;font-family:Menlo,'DejaVu Sans Mono',consolas,'Courier New',monospace\">\n",
       "</pre>\n"
      ],
      "text/plain": [
       "\n"
      ]
     },
     "metadata": {},
     "output_type": "display_data"
    },
    {
     "name": "stdout",
     "output_type": "stream",
     "text": [
      "Accuracy: 90.62%\n"
     ]
    }
   ],
   "source": [
    "def classify_text(text: str) -> str:\n",
    "    \"\"\"Classify the provided text into a known newsgroup.\"\"\"\n",
    "    response = your_model.generate_content(text, request_options=retry_policy)\n",
    "    rc = response.candidates[0]\n",
    "\n",
    "    # Any errors, filters, recitation, etc we can mark as a general error\n",
    "    if rc.finish_reason.name != \"STOP\":\n",
    "        return \"(error)\"\n",
    "    else:\n",
    "        return rc.content.parts[0].text\n",
    "\n",
    "\n",
    "# The sampling here is just to minimise your quota usage. If you can, you should\n",
    "# evaluate the whole test set with `df_model_eval = df_test.copy()`.\n",
    "df_model_eval = sample_data(df_test, 4, '.*')\n",
    "\n",
    "\n",
    "df_model_eval[\"Prediction\"] = df_model_eval[\"Text\"].progress_apply(classify_text)\n",
    "\n",
    "accuracy = (df_model_eval[\"Class Name\"] == df_model_eval[\"Prediction\"]).sum() / len(df_model_eval)\n",
    "print(f\"Accuracy: {accuracy:.2%}\")"
   ]
  },
  {
   "cell_type": "markdown",
   "id": "3ec91577",
   "metadata": {
    "papermill": {
     "duration": 0.02271,
     "end_time": "2024-11-16T03:33:13.635060",
     "exception": false,
     "start_time": "2024-11-16T03:33:13.612350",
     "status": "completed"
    },
    "tags": []
   },
   "source": [
    "## Compare token usage\n",
    "\n",
    "AI Studio and the Gemini API provide model tuning at no cost, however normal limits and charges apply for *use* of a tuned model.\n",
    "\n",
    "The size of the input prompt and other generation config like system instructions, as well as the number of generated output tokens, all contribute to the overall cost of a request."
   ]
  },
  {
   "cell_type": "code",
   "execution_count": 21,
   "id": "b9b69487",
   "metadata": {
    "execution": {
     "iopub.execute_input": "2024-11-16T03:33:15.805158Z",
     "iopub.status.busy": "2024-11-16T03:33:15.804767Z",
     "iopub.status.idle": "2024-11-16T03:33:16.150909Z",
     "shell.execute_reply": "2024-11-16T03:33:16.149666Z"
    },
    "papermill": {
     "duration": 2.494952,
     "end_time": "2024-11-16T03:33:16.153337",
     "exception": false,
     "start_time": "2024-11-16T03:33:13.658385",
     "status": "completed"
    },
    "tags": []
   },
   "outputs": [
    {
     "name": "stdout",
     "output_type": "stream",
     "text": [
      "System instructed baseline model: 171 (input)\n",
      "Tuned model: 135 (input)\n",
      "Token savings: 26.67%\n"
     ]
    }
   ],
   "source": [
    "# Calculate the *input* cost of the baseline model with system instructions.\n",
    "sysint_tokens = instructed_model.count_tokens(sample_row).total_tokens\n",
    "print(f'System instructed baseline model: {sysint_tokens} (input)')\n",
    "\n",
    "# Calculate the input cost of the tuned model.\n",
    "tuned_tokens = your_model.count_tokens(sample_row).total_tokens\n",
    "print(f'Tuned model: {tuned_tokens} (input)')\n",
    "\n",
    "savings = (sysint_tokens - tuned_tokens) / tuned_tokens\n",
    "print(f'Token savings: {savings:.2%}')  # Note that this is only n=1."
   ]
  },
  {
   "cell_type": "markdown",
   "id": "fa7644c1",
   "metadata": {
    "papermill": {
     "duration": 0.017294,
     "end_time": "2024-11-16T03:33:16.188416",
     "exception": false,
     "start_time": "2024-11-16T03:33:16.171122",
     "status": "completed"
    },
    "tags": []
   },
   "source": [
    "The earlier verbose model also produced more output tokens than needed for this task."
   ]
  },
  {
   "cell_type": "code",
   "execution_count": 22,
   "id": "545a8e3c",
   "metadata": {
    "execution": {
     "iopub.execute_input": "2024-11-16T03:33:16.225413Z",
     "iopub.status.busy": "2024-11-16T03:33:16.224972Z",
     "iopub.status.idle": "2024-11-16T03:33:25.489755Z",
     "shell.execute_reply": "2024-11-16T03:33:25.488523Z"
    },
    "papermill": {
     "duration": 9.286351,
     "end_time": "2024-11-16T03:33:25.492219",
     "exception": false,
     "start_time": "2024-11-16T03:33:16.205868",
     "status": "completed"
    },
    "tags": []
   },
   "outputs": [
    {
     "name": "stdout",
     "output_type": "stream",
     "text": [
      "Baseline (verbose) output tokens: 268\n",
      "Tuned output tokens: 3\n"
     ]
    }
   ],
   "source": [
    "baseline_token_output = baseline_response.usage_metadata.candidates_token_count\n",
    "print('Baseline (verbose) output tokens:', baseline_token_output)\n",
    "\n",
    "tuned_model_output = your_model.generate_content(sample_row)\n",
    "tuned_tokens_output = tuned_model_output.usage_metadata.candidates_token_count\n",
    "print('Tuned output tokens:', tuned_tokens_output)"
   ]
  },
  {
   "cell_type": "markdown",
   "id": "798e22cc",
   "metadata": {
    "id": "6c1204a5d0ab",
    "papermill": {
     "duration": 0.017743,
     "end_time": "2024-11-16T03:33:25.527810",
     "exception": false,
     "start_time": "2024-11-16T03:33:25.510067",
     "status": "completed"
    },
    "tags": []
   },
   "source": [
    "## Next steps\n",
    "\n",
    "Now that you have tuned a classification model, try some other tasks, like tuning a model to respond with a specific tone or style using hand-written examples (or even generated examples!). Kaggle hosts [a number of datasets](https://www.kaggle.com/datasets) you can try out.\n",
    "\n",
    "Learn about [when supervised fine-tuning is most effective](https://cloud.google.com/blog/products/ai-machine-learning/supervised-fine-tuning-for-gemini-llm).\n",
    "\n",
    "And check out the [fine-tuning tutorial](https://ai.google.dev/gemini-api/docs/model-tuning/tutorial?hl=en&lang=python) for another example that shows a tuned model extending beyond the training data to new, unseen inputs."
   ]
  }
 ],
 "metadata": {
  "colab": {
   "name": "day-4-fine-tuning-a-custom-model.ipynb",
   "toc_visible": true
  },
  "kaggle": {
   "accelerator": "none",
   "dataSources": [],
   "dockerImageVersionId": 30786,
   "isGpuEnabled": false,
   "isInternetEnabled": true,
   "language": "python",
   "sourceType": "notebook"
  },
  "kernelspec": {
   "display_name": "Python 3",
   "language": "python",
   "name": "python3"
  },
  "language_info": {
   "codemirror_mode": {
    "name": "ipython",
    "version": 3
   },
   "file_extension": ".py",
   "mimetype": "text/x-python",
   "name": "python",
   "nbconvert_exporter": "python",
   "pygments_lexer": "ipython3",
   "version": "3.10.14"
  },
  "papermill": {
   "default_parameters": {},
   "duration": 461.667511,
   "end_time": "2024-11-16T03:33:26.469334",
   "environment_variables": {},
   "exception": null,
   "input_path": "__notebook__.ipynb",
   "output_path": "__notebook__.ipynb",
   "parameters": {},
   "start_time": "2024-11-16T03:25:44.801823",
   "version": "2.6.0"
  },
  "widgets": {
   "application/vnd.jupyter.widget-state+json": {
    "state": {
     "01da7c09906943aa9f989f0416732aef": {
      "model_module": "@jupyter-widgets/base",
      "model_module_version": "1.2.0",
      "model_name": "LayoutModel",
      "state": {
       "_model_module": "@jupyter-widgets/base",
       "_model_module_version": "1.2.0",
       "_model_name": "LayoutModel",
       "_view_count": null,
       "_view_module": "@jupyter-widgets/base",
       "_view_module_version": "1.2.0",
       "_view_name": "LayoutView",
       "align_content": null,
       "align_items": null,
       "align_self": null,
       "border": null,
       "bottom": null,
       "display": null,
       "flex": null,
       "flex_flow": null,
       "grid_area": null,
       "grid_auto_columns": null,
       "grid_auto_flow": null,
       "grid_auto_rows": null,
       "grid_column": null,
       "grid_gap": null,
       "grid_row": null,
       "grid_template_areas": null,
       "grid_template_columns": null,
       "grid_template_rows": null,
       "height": null,
       "justify_content": null,
       "justify_items": null,
       "left": null,
       "margin": null,
       "max_height": null,
       "max_width": null,
       "min_height": null,
       "min_width": null,
       "object_fit": null,
       "object_position": null,
       "order": null,
       "overflow": null,
       "overflow_x": null,
       "overflow_y": null,
       "padding": null,
       "right": null,
       "top": null,
       "visibility": null,
       "width": null
      }
     },
     "6c0ce9c90625459982aff947aeac80f9": {
      "model_module": "@jupyter-widgets/output",
      "model_module_version": "1.0.0",
      "model_name": "OutputModel",
      "state": {
       "_dom_classes": [],
       "_model_module": "@jupyter-widgets/output",
       "_model_module_version": "1.0.0",
       "_model_name": "OutputModel",
       "_view_count": null,
       "_view_module": "@jupyter-widgets/output",
       "_view_module_version": "1.0.0",
       "_view_name": "OutputView",
       "layout": "IPY_MODEL_01da7c09906943aa9f989f0416732aef",
       "msg_id": "",
       "outputs": [
        {
         "data": {
          "text/html": "<pre style=\"white-space:pre;overflow-x:auto;line-height:normal;font-family:Menlo,'DejaVu Sans Mono',consolas,'Courier New',monospace\"><span style=\"color: #800080; text-decoration-color: #800080\"> 100%</span> <span style=\"color: #729c1f; text-decoration-color: #729c1f\">━━━━━━━━━━━━━━━━━━━━━━━━━━━━━━━━━━━━━━━━━━━━━━━━━━━━━━━━━━━━━━━━━━━━━━━</span> <span style=\"color: #008000; text-decoration-color: #008000\">16/16 </span> [ <span style=\"color: #808000; text-decoration-color: #808000\">0:00:05</span> &lt; <span style=\"color: #008080; text-decoration-color: #008080\">0:00:00</span> , <span style=\"color: #800000; text-decoration-color: #800000\">3 it/s</span> ]\n</pre>\n",
          "text/plain": "\u001b[35m 100%\u001b[0m \u001b[38;2;114;156;31m━━━━━━━━━━━━━━━━━━━━━━━━━━━━━━━━━━━━━━━━━━━━━━━━━━━━━━━━━━━━━━━━━━━━━━━\u001b[0m \u001b[32m16/16 \u001b[0m [ \u001b[33m0:00:05\u001b[0m < \u001b[36m0:00:00\u001b[0m , \u001b[31m3 it/s\u001b[0m ]\n"
         },
         "metadata": {},
         "output_type": "display_data"
        }
       ]
      }
     },
     "8fc46e1da25b423c9e16854c34a98323": {
      "model_module": "@jupyter-widgets/base",
      "model_module_version": "1.2.0",
      "model_name": "LayoutModel",
      "state": {
       "_model_module": "@jupyter-widgets/base",
       "_model_module_version": "1.2.0",
       "_model_name": "LayoutModel",
       "_view_count": null,
       "_view_module": "@jupyter-widgets/base",
       "_view_module_version": "1.2.0",
       "_view_name": "LayoutView",
       "align_content": null,
       "align_items": null,
       "align_self": null,
       "border": null,
       "bottom": null,
       "display": null,
       "flex": null,
       "flex_flow": null,
       "grid_area": null,
       "grid_auto_columns": null,
       "grid_auto_flow": null,
       "grid_auto_rows": null,
       "grid_column": null,
       "grid_gap": null,
       "grid_row": null,
       "grid_template_areas": null,
       "grid_template_columns": null,
       "grid_template_rows": null,
       "height": null,
       "justify_content": null,
       "justify_items": null,
       "left": null,
       "margin": null,
       "max_height": null,
       "max_width": null,
       "min_height": null,
       "min_width": null,
       "object_fit": null,
       "object_position": null,
       "order": null,
       "overflow": null,
       "overflow_x": null,
       "overflow_y": null,
       "padding": null,
       "right": null,
       "top": null,
       "visibility": null,
       "width": null
      }
     },
     "eb6c54f04dc944a9ad1846a3379da8ee": {
      "model_module": "@jupyter-widgets/output",
      "model_module_version": "1.0.0",
      "model_name": "OutputModel",
      "state": {
       "_dom_classes": [],
       "_model_module": "@jupyter-widgets/output",
       "_model_module_version": "1.0.0",
       "_model_name": "OutputModel",
       "_view_count": null,
       "_view_module": "@jupyter-widgets/output",
       "_view_module_version": "1.0.0",
       "_view_name": "OutputView",
       "layout": "IPY_MODEL_8fc46e1da25b423c9e16854c34a98323",
       "msg_id": "",
       "outputs": [
        {
         "data": {
          "text/html": "<pre style=\"white-space:pre;overflow-x:auto;line-height:normal;font-family:Menlo,'DejaVu Sans Mono',consolas,'Courier New',monospace\"><span style=\"color: #800080; text-decoration-color: #800080\"> 100%</span> <span style=\"color: #729c1f; text-decoration-color: #729c1f\">━━━━━━━━━━━━━━━━━━━━━━━━━━━━━━━━━━━━━━━━━━━━━━━━━━━━━━━━━━━━━━━━━━━━━━━</span> <span style=\"color: #008000; text-decoration-color: #008000\">32/32 </span> [ <span style=\"color: #808000; text-decoration-color: #808000\">0:01:04</span> &lt; <span style=\"color: #008080; text-decoration-color: #008080\">0:00:00</span> , <span style=\"color: #800000; text-decoration-color: #800000\">0 it/s</span> ]\n</pre>\n",
          "text/plain": "\u001b[35m 100%\u001b[0m \u001b[38;2;114;156;31m━━━━━━━━━━━━━━━━━━━━━━━━━━━━━━━━━━━━━━━━━━━━━━━━━━━━━━━━━━━━━━━━━━━━━━━\u001b[0m \u001b[32m32/32 \u001b[0m [ \u001b[33m0:01:04\u001b[0m < \u001b[36m0:00:00\u001b[0m , \u001b[31m0 it/s\u001b[0m ]\n"
         },
         "metadata": {},
         "output_type": "display_data"
        }
       ]
      }
     }
    },
    "version_major": 2,
    "version_minor": 0
   }
  }
 },
 "nbformat": 4,
 "nbformat_minor": 5
}
